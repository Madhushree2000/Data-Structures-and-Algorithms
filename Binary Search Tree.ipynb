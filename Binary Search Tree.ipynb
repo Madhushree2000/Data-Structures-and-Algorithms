{
 "cells": [
  {
   "cell_type": "code",
   "execution_count": 35,
   "id": "3c96e1f3",
   "metadata": {},
   "outputs": [],
   "source": [
    "class BSTNode:\n",
    "    def __init__(self, data):\n",
    "        self.data = data\n",
    "        self.left = None\n",
    "        self.right = None"
   ]
  },
  {
   "cell_type": "code",
   "execution_count": 36,
   "id": "f0bb59a2",
   "metadata": {},
   "outputs": [],
   "source": [
    "def inorder(root):\n",
    "    if root:\n",
    "        inorder(root.left)\n",
    "        print(root.data, end=' ')\n",
    "        inorder(root.right)"
   ]
  },
  {
   "cell_type": "code",
   "execution_count": 37,
   "id": "fc83f261",
   "metadata": {},
   "outputs": [],
   "source": [
    "def insert(root, key):\n",
    "    \n",
    "    if root is None:\n",
    "        return BSTNode(key)\n",
    "    \n",
    "    else:\n",
    "        if root.data == key:\n",
    "            return root\n",
    "        \n",
    "        elif root.data < key:\n",
    "            root.right = insert(root.right, key)\n",
    "            \n",
    "        elif root.data > key:\n",
    "            root.left = insert(root.left, key)\n",
    "    return root"
   ]
  },
  {
   "cell_type": "code",
   "execution_count": 38,
   "id": "d4413e42",
   "metadata": {},
   "outputs": [],
   "source": [
    "def search(root,key):\n",
    "    \n",
    "    if root is None:\n",
    "        return(0)\n",
    "    \n",
    "    elif root.data == key:\n",
    "        return(1)\n",
    "    \n",
    "    elif root.data < key:\n",
    "        return search(root.right, key)\n",
    "    \n",
    "    elif root.data > key:\n",
    "        return search(root.left, key)\n",
    "    \n",
    "    else:\n",
    "        return(0)\n",
    "        \n",
    "    "
   ]
  },
  {
   "cell_type": "code",
   "execution_count": 39,
   "id": "383bc7fa",
   "metadata": {},
   "outputs": [],
   "source": [
    "def minValNode(root):\n",
    "    c = root\n",
    "    \n",
    "    while(c.left is not None):\n",
    "        c = c.left\n",
    "\n",
    "    return c"
   ]
  },
  {
   "cell_type": "code",
   "execution_count": 59,
   "id": "0befedaa",
   "metadata": {},
   "outputs": [],
   "source": [
    "def delete(root, key):\n",
    "    \n",
    "    if root is None:\n",
    "        return root\n",
    "\n",
    "    if key < root.data:\n",
    "        root.left = delete(root.left, key)\n",
    "\n",
    "    elif(key > root.data):\n",
    "        root.right = delete(root.right, key)\n",
    "\n",
    "    else:\n",
    "\n",
    "        # Node with only one child or no child\n",
    "        if root.left is None:\n",
    "            temp = root.right\n",
    "            root = None\n",
    "            return temp\n",
    "\n",
    "        elif root.right is None:\n",
    "            temp = root.left\n",
    "            root = None\n",
    "            return temp\n",
    "\n",
    "        # Node with two children: \n",
    "        # Get the inorder successor\n",
    "        # (smallest in the right subtree)\n",
    "        temp = minValNode(root.right)\n",
    "        root.right = delete(root.right, temp.data)\n",
    "        root.data = temp.data\n",
    "\n",
    "    return root\n",
    "\n"
   ]
  },
  {
   "cell_type": "code",
   "execution_count": 60,
   "id": "5b3a8ffa",
   "metadata": {},
   "outputs": [
    {
     "name": "stdout",
     "output_type": "stream",
     "text": [
      "20 30 40 50 60 70 80 "
     ]
    }
   ],
   "source": [
    "r = BSTNode(50)\n",
    "key = [30,20,40,70,60,80]\n",
    "for i in key:\n",
    "    r = insert(r,i)\n",
    "inorder(r)\n"
   ]
  },
  {
   "cell_type": "code",
   "execution_count": 61,
   "id": "63194eff",
   "metadata": {},
   "outputs": [
    {
     "name": "stdout",
     "output_type": "stream",
     "text": [
      " not found\n"
     ]
    }
   ],
   "source": [
    "f = search(r, 62)\n",
    "if(f == 1):\n",
    "    print (\"found\")\n",
    "if(f == 0):\n",
    "    print (\" not found\")"
   ]
  },
  {
   "cell_type": "code",
   "execution_count": 62,
   "id": "6416f1ee",
   "metadata": {},
   "outputs": [],
   "source": [
    "r = delete(r,70)"
   ]
  },
  {
   "cell_type": "code",
   "execution_count": 63,
   "id": "786f9271",
   "metadata": {},
   "outputs": [
    {
     "name": "stdout",
     "output_type": "stream",
     "text": [
      "20 30 40 50 60 80 "
     ]
    }
   ],
   "source": [
    "inorder(r)"
   ]
  },
  {
   "cell_type": "code",
   "execution_count": null,
   "id": "f08cdabc",
   "metadata": {},
   "outputs": [],
   "source": []
  }
 ],
 "metadata": {
  "kernelspec": {
   "display_name": "Python 3.8.8 64-bit ('base': conda)",
   "language": "python",
   "name": "python388jvsc74a57bd0207c0d44758c6669a77097a940d54e0c958e1873e8368d84e343a511989e3c6f"
  },
  "language_info": {
   "codemirror_mode": {
    "name": "ipython",
    "version": 3
   },
   "file_extension": ".py",
   "mimetype": "text/x-python",
   "name": "python",
   "nbconvert_exporter": "python",
   "pygments_lexer": "ipython3",
   "version": "3.8.8"
  }
 },
 "nbformat": 4,
 "nbformat_minor": 5
}
