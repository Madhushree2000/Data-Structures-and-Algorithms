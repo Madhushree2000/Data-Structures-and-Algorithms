{
 "cells": [
  {
   "cell_type": "code",
   "execution_count": 116,
   "id": "48a2c331",
   "metadata": {},
   "outputs": [],
   "source": [
    "class BinaryTreeNode:\n",
    "    def __init__(self, data):\n",
    "        self.data = data\n",
    "        self.leftChild = None\n",
    "        self.rightChild = None"
   ]
  },
  {
   "cell_type": "code",
   "execution_count": 117,
   "id": "ac135422",
   "metadata": {},
   "outputs": [],
   "source": [
    "def Insert(root,newnode):\n",
    " \n",
    "    if not root:\n",
    "        node1 = BinaryTreeNode(newnode)\n",
    "        return\n",
    "    \n",
    "    q = []\n",
    "    q.append(root)\n",
    "\n",
    "    while (q):\n",
    "        root = q[0]\n",
    "        q.pop(0)\n",
    " \n",
    "        if (not root.leftChild):\n",
    "            root.leftChild = BinaryTreeNode(newnode)\n",
    "            break\n",
    "        else:\n",
    "            q.append(root.leftChild)\n",
    " \n",
    "        if (not root.rightChild):\n",
    "            root.right = BinaryTreeNode(newnode)\n",
    "            break\n",
    "        else:\n",
    "            q.append(root.rightChild)"
   ]
  },
  {
   "cell_type": "code",
   "execution_count": 118,
   "id": "90c3e09b",
   "metadata": {},
   "outputs": [],
   "source": [
    "def deleteDeepest(root,d_node):\n",
    "    q = []\n",
    "    q.append(root)\n",
    "    while(len(q)):\n",
    "        temp = q.pop(0)\n",
    "        if temp is d_node:\n",
    "            temp = None\n",
    "            return\n",
    "        if temp.rightChild:\n",
    "            if temp.rightChild is d_node:\n",
    "                temp.rightChild = None\n",
    "                return\n",
    "            else:\n",
    "                q.append(temp.rightChild)\n",
    "                \n",
    "        if temp.leftChild:\n",
    "            if temp.leftChild is d_node:\n",
    "                temp.leftChild = None\n",
    "                return\n",
    "            else:\n",
    "                q.append(temp.leftChild)"
   ]
  },
  {
   "cell_type": "code",
   "execution_count": 137,
   "id": "4f420fa0",
   "metadata": {},
   "outputs": [],
   "source": [
    "def Delete(root, node):\n",
    "    \n",
    "    if root == None :\n",
    "        return\n",
    "    \n",
    "    if root.leftChild == None and root.rightChild == None:\n",
    "        if root.key == key : \n",
    "            return\n",
    "        else :\n",
    "            return\n",
    "        \n",
    "    key_node = None\n",
    "    q = []\n",
    "    q.append(root)\n",
    "    c = None\n",
    "    \n",
    "    while(len(q)):\n",
    "        c = q.pop(0)\n",
    "        \n",
    "        if c.data == node:\n",
    "            key_node = c\n",
    "            \n",
    "        if c.leftChild:\n",
    "            q.append(c.leftChild)\n",
    "            \n",
    "        if c.rightChild:\n",
    "            q.append(c.rightChild)\n",
    "            \n",
    "    if key_node : \n",
    "        x = c.data\n",
    "        deleteDeepest(root,c)\n",
    "        key_node.data = x\n",
    "    return\n",
    "    "
   ]
  },
  {
   "cell_type": "code",
   "execution_count": 120,
   "id": "1ab94726",
   "metadata": {},
   "outputs": [],
   "source": [
    "def LevelOrder(root):\n",
    "    \n",
    "    c = root\n",
    "    q = []\n",
    "    \n",
    "    if (c is None):\n",
    "        return\n",
    "    \n",
    "    q.append(c)\n",
    "\n",
    "    while(q):\n",
    "\n",
    "        print(q[0].data)\n",
    "        c = q.pop(0)\n",
    "\n",
    "        if(c.leftChild is not None):\n",
    "            q.append(c.leftChild)\n",
    "\n",
    "        if(c.rightChild is not None):\n",
    "            q.append(c.rightChild)\n",
    "    "
   ]
  },
  {
   "cell_type": "code",
   "execution_count": 134,
   "id": "b57edd4c",
   "metadata": {},
   "outputs": [],
   "source": [
    "def InOrder(root):\n",
    "    c = root\n",
    "    s = []\n",
    "    \n",
    "    if (c is None):\n",
    "        return\n",
    "    \n",
    "    while True:\n",
    "        if (c is not None):\n",
    "            s.append(c)\n",
    "            c = c.leftChild\n",
    "            \n",
    "        elif (s):\n",
    "            c = s.pop()\n",
    "            print(c.data)\n",
    "            c = c.rightChild\n",
    "            \n",
    "        else:\n",
    "            break\n",
    "                "
   ]
  },
  {
   "cell_type": "code",
   "execution_count": 135,
   "id": "84ee7134",
   "metadata": {},
   "outputs": [],
   "source": [
    "def PreOrder(root):\n",
    "    c = root\n",
    "    s = []\n",
    "    \n",
    "    if (c is None):\n",
    "        return\n",
    "    \n",
    "    while True:\n",
    "        if (c is not None):\n",
    "            print(c.data)\n",
    "            if(c.rightChild is not None):\n",
    "                s.append(c.rightChild)\n",
    "            c = c.leftChild\n",
    "            \n",
    "        elif (s):\n",
    "            c = s.pop()\n",
    "            \n",
    "            \n",
    "        else:\n",
    "            break\n",
    "    \n",
    "   \n",
    "    "
   ]
  },
  {
   "cell_type": "code",
   "execution_count": 136,
   "id": "c8850632",
   "metadata": {},
   "outputs": [],
   "source": [
    "def PostOrder(root):\n",
    "    c = root\n",
    "    s1 = []\n",
    "    s2 = []\n",
    "    \n",
    "    if (c is None):\n",
    "        return\n",
    "    \n",
    "    s1.append(c)\n",
    "    \n",
    "    while s1:\n",
    "        \n",
    "            c = s1.pop()\n",
    "            s2.append(c)\n",
    "            \n",
    "            if(c.leftChild is not None):\n",
    "                s1.append(c.leftChild)\n",
    "            \n",
    "            if(c.rightChild is not None):\n",
    "                s1.append(c.rightChild)\n",
    "            \n",
    "    while s2:\n",
    "        c = s2.pop()\n",
    "        print(c.data)\n",
    "\n",
    "    "
   ]
  },
  {
   "cell_type": "code",
   "execution_count": 124,
   "id": "bbdbceb4",
   "metadata": {},
   "outputs": [],
   "source": [
    "node1 = BinaryTreeNode(1)\n",
    "node2 = BinaryTreeNode(2)\n",
    "node3 = BinaryTreeNode(3)\n",
    "node4 = BinaryTreeNode(4)\n",
    "node5 = BinaryTreeNode(5)\n",
    "node6 = BinaryTreeNode(6)\n",
    "node7 = BinaryTreeNode(7)"
   ]
  },
  {
   "cell_type": "code",
   "execution_count": 125,
   "id": "4eaebfba",
   "metadata": {},
   "outputs": [],
   "source": [
    "node1.leftChild = node2\n",
    "node1.rightChild = node3\n",
    "node2.leftChild = node4\n",
    "node2.rightChild = node5\n",
    "node5.leftChild = node6\n",
    "node5.rightChild = node7"
   ]
  },
  {
   "cell_type": "code",
   "execution_count": 126,
   "id": "df1cbe67",
   "metadata": {},
   "outputs": [],
   "source": [
    "Insert(node1,8)"
   ]
  },
  {
   "cell_type": "code",
   "execution_count": 138,
   "id": "1bec08eb",
   "metadata": {},
   "outputs": [
    {
     "data": {
      "text/plain": [
       "1"
      ]
     },
     "execution_count": 138,
     "metadata": {},
     "output_type": "execute_result"
    }
   ],
   "source": [
    "Delete(node1,8)"
   ]
  },
  {
   "cell_type": "code",
   "execution_count": 139,
   "id": "f9be6cd7",
   "metadata": {},
   "outputs": [
    {
     "name": "stdout",
     "output_type": "stream",
     "text": [
      "1\n",
      "2\n",
      "3\n",
      "4\n",
      "5\n",
      "7\n",
      "6\n"
     ]
    }
   ],
   "source": [
    "LevelOrder(node1)"
   ]
  },
  {
   "cell_type": "code",
   "execution_count": 140,
   "id": "212ae7e1",
   "metadata": {},
   "outputs": [
    {
     "name": "stdout",
     "output_type": "stream",
     "text": [
      "4\n",
      "2\n",
      "6\n",
      "5\n",
      "1\n",
      "7\n",
      "3\n"
     ]
    }
   ],
   "source": [
    "InOrder(node1)"
   ]
  },
  {
   "cell_type": "code",
   "execution_count": 141,
   "id": "dcba290a",
   "metadata": {},
   "outputs": [
    {
     "name": "stdout",
     "output_type": "stream",
     "text": [
      "1\n",
      "2\n",
      "4\n",
      "5\n",
      "6\n",
      "3\n",
      "7\n"
     ]
    }
   ],
   "source": [
    "PreOrder(node1)"
   ]
  },
  {
   "cell_type": "code",
   "execution_count": 142,
   "id": "19157f93",
   "metadata": {},
   "outputs": [
    {
     "name": "stdout",
     "output_type": "stream",
     "text": [
      "4\n",
      "6\n",
      "5\n",
      "2\n",
      "7\n",
      "3\n",
      "1\n"
     ]
    }
   ],
   "source": [
    "PostOrder(node1)"
   ]
  },
  {
   "cell_type": "code",
   "execution_count": null,
   "id": "0d61af3c",
   "metadata": {},
   "outputs": [],
   "source": []
  },
  {
   "cell_type": "code",
   "execution_count": null,
   "id": "8e15761b",
   "metadata": {},
   "outputs": [],
   "source": []
  }
 ],
 "metadata": {
  "kernelspec": {
   "display_name": "Python 3.8.8 64-bit ('base': conda)",
   "language": "python",
   "name": "python388jvsc74a57bd0207c0d44758c6669a77097a940d54e0c958e1873e8368d84e343a511989e3c6f"
  },
  "language_info": {
   "codemirror_mode": {
    "name": "ipython",
    "version": 3
   },
   "file_extension": ".py",
   "mimetype": "text/x-python",
   "name": "python",
   "nbconvert_exporter": "python",
   "pygments_lexer": "ipython3",
   "version": "3.8.8"
  }
 },
 "nbformat": 4,
 "nbformat_minor": 5
}
