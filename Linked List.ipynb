{
 "cells": [
  {
   "cell_type": "code",
   "execution_count": 1,
   "id": "160eda94",
   "metadata": {},
   "outputs": [],
   "source": [
    "class Node:\n",
    "    def __init__(self, node):\n",
    "        self.data = node\n",
    "        self.next = None"
   ]
  },
  {
   "cell_type": "code",
   "execution_count": 2,
   "id": "c1b79afd",
   "metadata": {},
   "outputs": [],
   "source": [
    "class LinkedList:\n",
    "    def __init__(self):\n",
    "        self.head = None\n",
    "        \n",
    "    def printList(self):\n",
    "        temp = self.head\n",
    "        while (temp):\n",
    "            print (temp.data)\n",
    "            temp = temp.next"
   ]
  },
  {
   "cell_type": "code",
   "execution_count": 3,
   "id": "dc1bf9c6",
   "metadata": {},
   "outputs": [],
   "source": [
    "llist = LinkedList()\n",
    "llist.head = Node(10)\n",
    "\n",
    "node1 = Node(1)\n",
    "node3 = Node(3)\n",
    "node4 = Node(4)\n",
    "\n",
    "node1.next = node3\n",
    "node3.next = node4\n",
    "llist.head.next = node1"
   ]
  },
  {
   "cell_type": "code",
   "execution_count": 4,
   "id": "a939d464",
   "metadata": {},
   "outputs": [
    {
     "name": "stdout",
     "output_type": "stream",
     "text": [
      "10\n",
      "1\n",
      "3\n",
      "4\n"
     ]
    }
   ],
   "source": [
    "llist.printList()"
   ]
  },
  {
   "cell_type": "markdown",
   "id": "fa2cc1dc",
   "metadata": {},
   "source": [
    "# Insertion"
   ]
  },
  {
   "cell_type": "code",
   "execution_count": 5,
   "id": "3f262aaa",
   "metadata": {},
   "outputs": [],
   "source": [
    "def FrontOfList(data):\n",
    "    #push at front\n",
    "    new = Node(data)\n",
    "\n",
    "    if llist.head == None:\n",
    "        llist.head = new\n",
    "        return\n",
    "    \n",
    "    new.next = llist.head\n",
    "    llist.head = new\n",
    "\n",
    "\n",
    "def EndOfList(data):\n",
    "    #append at last\n",
    "    new = Node(data)\n",
    "\n",
    "    if llist.head == None:\n",
    "        llist.head = new\n",
    "        return\n",
    "\n",
    "    last = llist.head\n",
    "    while(last.next is not None):\n",
    "        last = last.next\n",
    "\n",
    "    last.next = new\n",
    "\n",
    "    \n",
    "def AtAnyPoint(data,prev_node):\n",
    "    \n",
    "    if prev_node == None:\n",
    "        print(\"Previous Node doesn't exist\")\n",
    "        return\n",
    "    \n",
    "    new = Node(data)\n",
    "    new.next = prev_node\n",
    "    prev_node = new.next\n"
   ]
  },
  {
   "cell_type": "code",
   "execution_count": 6,
   "id": "f14812ad",
   "metadata": {},
   "outputs": [],
   "source": [
    "FrontOfList(11)"
   ]
  },
  {
   "cell_type": "code",
   "execution_count": 7,
   "id": "e5c7c4ed",
   "metadata": {},
   "outputs": [],
   "source": [
    "EndOfList(5)"
   ]
  },
  {
   "cell_type": "code",
   "execution_count": 8,
   "id": "9b9ab4bc",
   "metadata": {},
   "outputs": [],
   "source": [
    "AtAnyPoint(8,llist.head.next)"
   ]
  },
  {
   "cell_type": "code",
   "execution_count": 9,
   "id": "a86038b1",
   "metadata": {},
   "outputs": [
    {
     "name": "stdout",
     "output_type": "stream",
     "text": [
      "11\n",
      "10\n",
      "1\n",
      "3\n",
      "4\n",
      "5\n"
     ]
    }
   ],
   "source": [
    "llist.printList()"
   ]
  },
  {
   "cell_type": "markdown",
   "id": "4ae83ae3",
   "metadata": {},
   "source": [
    "# Deletion\n"
   ]
  },
  {
   "cell_type": "code",
   "execution_count": 106,
   "id": "6431fd1b",
   "metadata": {},
   "outputs": [],
   "source": [
    "def fromGivenPosn(position):\n",
    "    if position == 0:\n",
    "        llist.head = llist.head.next\n",
    "        return\n",
    "    \n",
    "    i = 1\n",
    "    temp = llist.head \n",
    "    prev = llist.head\n",
    "    \n",
    "    while(i != (position-1)):\n",
    "        prev = temp\n",
    "        temp = temp.next\n",
    "        i+=1\n",
    "    \n",
    "    prev.next = temp.next\n",
    "    \n",
    "          "
   ]
  },
  {
   "cell_type": "code",
   "execution_count": 109,
   "id": "44db80dc",
   "metadata": {},
   "outputs": [],
   "source": [
    "fromGivenPosn(2)"
   ]
  },
  {
   "cell_type": "code",
   "execution_count": 110,
   "id": "a293882a",
   "metadata": {},
   "outputs": [
    {
     "name": "stdout",
     "output_type": "stream",
     "text": [
      "1\n",
      "4\n"
     ]
    }
   ],
   "source": [
    "llist.printList()"
   ]
  },
  {
   "cell_type": "code",
   "execution_count": null,
   "id": "36e8de58",
   "metadata": {},
   "outputs": [],
   "source": []
  }
 ],
 "metadata": {
  "kernelspec": {
   "display_name": "Python 3.8.8 64-bit ('base': conda)",
   "language": "python",
   "name": "python388jvsc74a57bd0207c0d44758c6669a77097a940d54e0c958e1873e8368d84e343a511989e3c6f"
  },
  "language_info": {
   "codemirror_mode": {
    "name": "ipython",
    "version": 3
   },
   "file_extension": ".py",
   "mimetype": "text/x-python",
   "name": "python",
   "nbconvert_exporter": "python",
   "pygments_lexer": "ipython3",
   "version": "3.8.8"
  }
 },
 "nbformat": 4,
 "nbformat_minor": 5
}
